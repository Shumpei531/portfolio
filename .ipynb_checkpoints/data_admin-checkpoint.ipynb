{
 "cells": [
  {
   "cell_type": "markdown",
   "id": "bc663635-5f01-4eb2-bd1c-ede98de1cd87",
   "metadata": {},
   "source": [
    "使用するライブラリのインストールや、データの前処理などを管理するファイルです。"
   ]
  },
  {
   "cell_type": "code",
   "execution_count": 12,
   "id": "91bd23e7-dbfa-48aa-a71f-1d2393620f3f",
   "metadata": {},
   "outputs": [
    {
     "name": "stdout",
     "output_type": "stream",
     "text": [
      "[NbConvertApp] Converting notebook data_admin.ipynb to script\n",
      "[NbConvertApp] Writing 2406 bytes to data_admin.py\n"
     ]
    }
   ],
   "source": [
    "!jupyter nbconvert --to script data_admin.ipynb"
   ]
  },
  {
   "cell_type": "code",
   "execution_count": 1,
   "id": "1e207fa1-0f72-4ae7-ba43-092fe48decf6",
   "metadata": {},
   "outputs": [],
   "source": [
    "# ライブラリのインポート"
   ]
  },
  {
   "cell_type": "code",
   "execution_count": 2,
   "id": "fabe0f14-29e2-4de8-ab98-5376a0df83e5",
   "metadata": {},
   "outputs": [],
   "source": [
    "import numpy as np\n",
    "from tensorflow import keras\n",
    "from tensorflow.keras import layers\n",
    "import os , shutil, pathlib\n",
    "import matplotlib.pyplot as plt\n",
    "from keras.callbacks import ModelCheckpoint"
   ]
  },
  {
   "cell_type": "code",
   "execution_count": 3,
   "id": "31d337ca-02ad-4d3b-b294-c9130605e264",
   "metadata": {},
   "outputs": [],
   "source": [
    "# cat_dogファイルの画像をtrain, validation, testの3つのディレクトリにコピー"
   ]
  },
  {
   "cell_type": "code",
   "execution_count": 4,
   "id": "84a2ad18-fd08-44f8-b373-ff2d313029fb",
   "metadata": {},
   "outputs": [],
   "source": [
    "# 元データのパズ\n",
    "original_dir=pathlib.Path('/Users/iinoshunhei/Desktop/cat-and-dog')\n",
    "#3つのサブセットを格納するディレクトリへのパス\n",
    "new_base_dir=pathlib.Path('/Users/iinoshunhei/Desktop/small_data')"
   ]
  },
  {
   "cell_type": "code",
   "execution_count": 5,
   "id": "d82ee6d7-b29e-456f-b61b-8c39d9cec060",
   "metadata": {},
   "outputs": [],
   "source": [
    "# 各データファイルの作成関数\n",
    "def make_subset(subset_name, start_index, end_index): \n",
    "    for category in (\"cat\", \"dog\"):\n",
    "        dir= new_base_dir/subset_name/category\n",
    "        os.makedirs(dir)\n",
    "        fnames= [f\"{category}.{i}.jpg\" for i in range(start_index, end_index)]\n",
    "        print(fnames)\n",
    "        for fname in fnames:\n",
    "            shutil.copyfile(src=original_dir/fname, dst=dir/fname)"
   ]
  },
  {
   "cell_type": "code",
   "execution_count": 6,
   "id": "5f519180-268a-4597-984c-6755f429d9c8",
   "metadata": {},
   "outputs": [],
   "source": [
    "# ファイルの有無で実行するか判断する関数\n",
    "def file_exist_check(subset_name, start_index, end_index):\n",
    "    directory='/Users/iinoshunhei/Desktop/small_data'\n",
    "    filename=subset_name\n",
    "    file_path=directory + '/' + filename\n",
    "\n",
    "    if not os.path.exists(file_path):\n",
    "        make_subset('train', start_index=start_index, end_index=end_index)\n",
    "    else:\n",
    "        pass"
   ]
  },
  {
   "cell_type": "code",
   "execution_count": 7,
   "id": "6e58b816-c28a-40c8-b5ea-85b666b907d6",
   "metadata": {},
   "outputs": [],
   "source": [
    "#　各データのファイル作成\n",
    "file_exist_check('train', 1, 1000)\n",
    "file_exist_check('validation', 1000, 1500)\n",
    "file_exist_check('test', 1500, 2500)"
   ]
  },
  {
   "cell_type": "code",
   "execution_count": 8,
   "id": "2ad6b84a-97ef-42cf-9270-b5cd1b3592f7",
   "metadata": {},
   "outputs": [
    {
     "name": "stdout",
     "output_type": "stream",
     "text": [
      "Found 1998 files belonging to 2 classes.\n",
      "Found 1000 files belonging to 2 classes.\n",
      "Found 2000 files belonging to 2 classes.\n"
     ]
    }
   ],
   "source": [
    "# データの前処理を行う(image_dataset_from_dictionary())\n",
    "from tensorflow.keras.utils import image_dataset_from_directory\n",
    "# バッチの数＝テータ数/バッチ数\n",
    "train_dataset=image_dataset_from_directory(new_base_dir/'train', image_size=(180,180), batch_size=32)\n",
    "validation_dataset=image_dataset_from_directory(new_base_dir/'validation', image_size=(180,180), batch_size=32)\n",
    "test_dataset=image_dataset_from_directory(new_base_dir/'test', image_size=(180,180), batch_size=32)"
   ]
  },
  {
   "cell_type": "code",
   "execution_count": 9,
   "id": "d7d7f967-43df-4b01-8d3e-6c342f86b1c7",
   "metadata": {},
   "outputs": [
    {
     "name": "stdout",
     "output_type": "stream",
     "text": [
      "0.0\n",
      "255.0\n",
      "0.0\n",
      "255.0\n",
      "0.0\n",
      "255.0\n",
      "0.0\n",
      "255.0\n",
      "0.0\n",
      "255.0\n",
      "0.0\n",
      "255.0\n",
      "0.0\n",
      "255.0\n",
      "0.0\n",
      "255.0\n",
      "0.0\n",
      "255.0\n",
      "0.0\n",
      "255.0\n",
      "0.0\n",
      "255.0\n",
      "0.0\n",
      "255.0\n",
      "0.0\n",
      "255.0\n",
      "0.0\n",
      "255.0\n",
      "0.0\n",
      "255.0\n",
      "0.0\n",
      "255.0\n",
      "0.0\n",
      "255.0\n",
      "0.0\n",
      "255.0\n",
      "0.0\n",
      "255.0\n",
      "0.0\n",
      "255.0\n",
      "0.0\n",
      "255.0\n",
      "0.0\n",
      "255.0\n",
      "0.0\n",
      "255.0\n",
      "0.0\n",
      "255.0\n",
      "0.0\n",
      "255.0\n",
      "0.0\n",
      "255.0\n",
      "0.0\n",
      "255.0\n",
      "0.0\n",
      "255.0\n",
      "0.0\n",
      "255.0\n",
      "0.0\n",
      "255.0\n",
      "0.0\n",
      "255.0\n",
      "0.0\n",
      "255.0\n",
      "0.0\n",
      "255.0\n",
      "0.0\n",
      "255.0\n",
      "0.0\n",
      "255.0\n",
      "0.0\n",
      "255.0\n",
      "0.0\n",
      "255.0\n",
      "0.0\n",
      "255.0\n",
      "0.0\n",
      "255.0\n",
      "0.0\n",
      "255.0\n",
      "0.0\n",
      "255.0\n",
      "0.0\n",
      "255.0\n",
      "0.0\n",
      "255.0\n",
      "0.0\n",
      "255.0\n",
      "0.0\n",
      "255.0\n",
      "0.0\n",
      "255.0\n",
      "0.0\n",
      "255.0\n",
      "0.0\n",
      "255.0\n",
      "0.0\n",
      "255.0\n",
      "0.0\n",
      "255.0\n",
      "0.0\n",
      "255.0\n",
      "0.0\n",
      "255.0\n",
      "0.0\n",
      "255.0\n",
      "0.0\n",
      "255.0\n",
      "0.0\n",
      "255.0\n",
      "0.0\n",
      "255.0\n",
      "0.0\n",
      "255.0\n",
      "0.0\n",
      "255.0\n",
      "0.0\n",
      "255.0\n",
      "0.0\n",
      "255.0\n",
      "0.0\n",
      "255.0\n",
      "0.0\n",
      "255.0\n",
      "0.0\n",
      "255.0\n"
     ]
    }
   ],
   "source": [
    "# データを正則化するために、範囲を確認\n",
    "for batch_data, _ in train_dataset:\n",
    "    min=np.min(batch_data)\n",
    "    max=np.max(batch_data)\n",
    "    print(min)\n",
    "    print(max)   "
   ]
  },
  {
   "cell_type": "code",
   "execution_count": 10,
   "id": "9a963e3f-67c4-47a4-b9ab-3b2a132cea70",
   "metadata": {},
   "outputs": [
    {
     "name": "stdout",
     "output_type": "stream",
     "text": [
      "data batch shape: (32, 180, 180, 3)\n",
      "labels batch shape: (32,)\n"
     ]
    }
   ],
   "source": [
    "# datasetが生成するデータの形状とラベルを表示\n",
    "for data_batch, labels_batch in train_dataset:\n",
    "    print('data batch shape:', data_batch.shape)\n",
    "    print('labels batch shape:', labels_batch.shape)\n",
    "#     print(labels_batch)を実行すると、ランダムなバッチひとつの状態が返される\n",
    "    break"
   ]
  },
  {
   "cell_type": "code",
   "execution_count": null,
   "id": "ef3ceb7b-b4a5-463a-91ab-1184ed8925f4",
   "metadata": {},
   "outputs": [],
   "source": []
  }
 ],
 "metadata": {
  "kernelspec": {
   "display_name": "Python 3 (ipykernel)",
   "language": "python",
   "name": "python3"
  },
  "language_info": {
   "codemirror_mode": {
    "name": "ipython",
    "version": 3
   },
   "file_extension": ".py",
   "mimetype": "text/x-python",
   "name": "python",
   "nbconvert_exporter": "python",
   "pygments_lexer": "ipython3",
   "version": "3.9.6"
  }
 },
 "nbformat": 4,
 "nbformat_minor": 5
}
